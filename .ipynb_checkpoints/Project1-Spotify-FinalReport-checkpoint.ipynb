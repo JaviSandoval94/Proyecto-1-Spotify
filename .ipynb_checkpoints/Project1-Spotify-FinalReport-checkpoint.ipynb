{
 "cells": [
  {
   "cell_type": "markdown",
   "metadata": {},
   "source": [
    "# Project-1-Spotify\n",
    "\n",
    "We are a consulting company for independent artists. We are helping a new Mexican artist to launch their next hit in Mexico and Latin America, which is planned to be released in last quarter 2020 in the Spotify platform, to remain in the Top 50 Chart throughout the next year.\n",
    "\n",
    "Tasks:\n",
    "\n",
    "* Identify most popular music genres in the population segment that the artist is targeting.\n",
    "* Identify patterns in the tempo, energy, danceability and acousticness of the music that people in that segment listen to in different quarters.\n",
    "* Define the properties that the artist's song should have to be succesful in last quarter 2020 in Mexico and Latin America.\n",
    "* Predict how popular this song will be in upcoming quarters.\n"
   ]
  },
  {
   "cell_type": "code",
   "execution_count": 2,
   "metadata": {},
   "outputs": [
    {
     "data": {
      "text/html": [
       "<div>\n",
       "<style scoped>\n",
       "    .dataframe tbody tr th:only-of-type {\n",
       "        vertical-align: middle;\n",
       "    }\n",
       "\n",
       "    .dataframe tbody tr th {\n",
       "        vertical-align: top;\n",
       "    }\n",
       "\n",
       "    .dataframe thead th {\n",
       "        text-align: right;\n",
       "    }\n",
       "</style>\n",
       "<table border=\"1\" class=\"dataframe\">\n",
       "  <thead>\n",
       "    <tr style=\"text-align: right;\">\n",
       "      <th></th>\n",
       "      <th>Position</th>\n",
       "      <th>Track Name</th>\n",
       "      <th>Artist</th>\n",
       "      <th>Date</th>\n",
       "      <th>id</th>\n",
       "    </tr>\n",
       "  </thead>\n",
       "  <tbody>\n",
       "    <tr>\n",
       "      <td>0</td>\n",
       "      <td>1</td>\n",
       "      <td>I'm Still Standing - From \"Sing\" Original Moti...</td>\n",
       "      <td>Taron Egerton</td>\n",
       "      <td>2017-01-01</td>\n",
       "      <td>0mb7btREdC3wuIUmuVRgWn</td>\n",
       "    </tr>\n",
       "    <tr>\n",
       "      <td>1</td>\n",
       "      <td>2</td>\n",
       "      <td>El Año Viejo</td>\n",
       "      <td>Tony Camargo</td>\n",
       "      <td>2017-01-01</td>\n",
       "      <td>6NjhADkaWwGYO0R7eZXyI4</td>\n",
       "    </tr>\n",
       "    <tr>\n",
       "      <td>2</td>\n",
       "      <td>3</td>\n",
       "      <td>La Edad de los Países</td>\n",
       "      <td>Hernán Casciari</td>\n",
       "      <td>2017-01-01</td>\n",
       "      <td>5gA5Tvu7zlihzqUvmPUqoi</td>\n",
       "    </tr>\n",
       "    <tr>\n",
       "      <td>3</td>\n",
       "      <td>4</td>\n",
       "      <td>Shake It Off - From \"Sing\" Original Motion Pic...</td>\n",
       "      <td>Nick Kroll</td>\n",
       "      <td>2017-01-01</td>\n",
       "      <td>2Q0WZoJaRJlelcxqOvowUc</td>\n",
       "    </tr>\n",
       "    <tr>\n",
       "      <td>4</td>\n",
       "      <td>5</td>\n",
       "      <td>Another Day Of Sun</td>\n",
       "      <td>La La Land Cast</td>\n",
       "      <td>2017-01-01</td>\n",
       "      <td>5kRBzRZmZTXVg8okC7SJFZ</td>\n",
       "    </tr>\n",
       "  </tbody>\n",
       "</table>\n",
       "</div>"
      ],
      "text/plain": [
       "   Position                                         Track Name  \\\n",
       "0         1  I'm Still Standing - From \"Sing\" Original Moti...   \n",
       "1         2                                       El Año Viejo   \n",
       "2         3                              La Edad de los Países   \n",
       "3         4  Shake It Off - From \"Sing\" Original Motion Pic...   \n",
       "4         5                                 Another Day Of Sun   \n",
       "\n",
       "            Artist        Date                      id  \n",
       "0    Taron Egerton  2017-01-01  0mb7btREdC3wuIUmuVRgWn  \n",
       "1     Tony Camargo  2017-01-01  6NjhADkaWwGYO0R7eZXyI4  \n",
       "2  Hernán Casciari  2017-01-01  5gA5Tvu7zlihzqUvmPUqoi  \n",
       "3       Nick Kroll  2017-01-01  2Q0WZoJaRJlelcxqOvowUc  \n",
       "4  La La Land Cast  2017-01-01  5kRBzRZmZTXVg8okC7SJFZ  "
      ]
     },
     "execution_count": 2,
     "metadata": {},
     "output_type": "execute_result"
    }
   ],
   "source": [
    "import pandas as pd\n",
    "import matplotlib.pyplot as plt\n",
    "import scipy.stats as stats\n",
    "\n",
    "top50_chart_df = pd.read_excel(\"chartmx_03_20.xlsx\", index = False)\n",
    "stats_df = pd.read_excel(\"audiofmx.xlsx\", index = False)\n",
    "\n",
    "top50_chart_df[\"id\"] = top50_chart_df[\"URL\"].str[-22:]\n",
    "\n",
    "top50_chart_df = top50_chart_df[[\"Position\", \"Track Name\", \"Artist\", \"Date\", \"id\"]]\n",
    "\n",
    "top50_chart_df.head()"
   ]
  },
  {
   "cell_type": "code",
   "execution_count": 7,
   "metadata": {},
   "outputs": [
    {
     "data": {
      "text/html": [
       "<div>\n",
       "<style scoped>\n",
       "    .dataframe tbody tr th:only-of-type {\n",
       "        vertical-align: middle;\n",
       "    }\n",
       "\n",
       "    .dataframe tbody tr th {\n",
       "        vertical-align: top;\n",
       "    }\n",
       "\n",
       "    .dataframe thead th {\n",
       "        text-align: right;\n",
       "    }\n",
       "</style>\n",
       "<table border=\"1\" class=\"dataframe\">\n",
       "  <thead>\n",
       "    <tr style=\"text-align: right;\">\n",
       "      <th></th>\n",
       "      <th>acousticness</th>\n",
       "      <th>danceability</th>\n",
       "      <th>duration_ms</th>\n",
       "      <th>energy</th>\n",
       "      <th>id</th>\n",
       "      <th>instrumentalness</th>\n",
       "      <th>key</th>\n",
       "      <th>liveness</th>\n",
       "      <th>loudness</th>\n",
       "      <th>mode</th>\n",
       "      <th>speechiness</th>\n",
       "      <th>tempo</th>\n",
       "      <th>time_signature</th>\n",
       "      <th>type</th>\n",
       "      <th>valence</th>\n",
       "    </tr>\n",
       "  </thead>\n",
       "  <tbody>\n",
       "    <tr>\n",
       "      <td>0</td>\n",
       "      <td>0.00703</td>\n",
       "      <td>0.591</td>\n",
       "      <td>187853</td>\n",
       "      <td>0.901</td>\n",
       "      <td>0mb7btREdC3wuIUmuVRgWn</td>\n",
       "      <td>0.000000</td>\n",
       "      <td>10</td>\n",
       "      <td>0.0649</td>\n",
       "      <td>-4.328</td>\n",
       "      <td>0</td>\n",
       "      <td>0.1500</td>\n",
       "      <td>175.345</td>\n",
       "      <td>4</td>\n",
       "      <td>audio_features</td>\n",
       "      <td>0.694</td>\n",
       "    </tr>\n",
       "    <tr>\n",
       "      <td>1</td>\n",
       "      <td>0.60200</td>\n",
       "      <td>0.740</td>\n",
       "      <td>182720</td>\n",
       "      <td>0.521</td>\n",
       "      <td>6NjhADkaWwGYO0R7eZXyI4</td>\n",
       "      <td>0.000000</td>\n",
       "      <td>0</td>\n",
       "      <td>0.1110</td>\n",
       "      <td>-10.663</td>\n",
       "      <td>1</td>\n",
       "      <td>0.3650</td>\n",
       "      <td>159.694</td>\n",
       "      <td>4</td>\n",
       "      <td>audio_features</td>\n",
       "      <td>0.904</td>\n",
       "    </tr>\n",
       "    <tr>\n",
       "      <td>2</td>\n",
       "      <td>0.92300</td>\n",
       "      <td>0.606</td>\n",
       "      <td>280521</td>\n",
       "      <td>0.301</td>\n",
       "      <td>5gA5Tvu7zlihzqUvmPUqoi</td>\n",
       "      <td>0.000000</td>\n",
       "      <td>9</td>\n",
       "      <td>0.2970</td>\n",
       "      <td>-15.735</td>\n",
       "      <td>0</td>\n",
       "      <td>0.8610</td>\n",
       "      <td>62.876</td>\n",
       "      <td>3</td>\n",
       "      <td>audio_features</td>\n",
       "      <td>0.941</td>\n",
       "    </tr>\n",
       "    <tr>\n",
       "      <td>3</td>\n",
       "      <td>0.11600</td>\n",
       "      <td>0.741</td>\n",
       "      <td>120560</td>\n",
       "      <td>0.913</td>\n",
       "      <td>2Q0WZoJaRJlelcxqOvowUc</td>\n",
       "      <td>0.000001</td>\n",
       "      <td>11</td>\n",
       "      <td>0.0783</td>\n",
       "      <td>-5.453</td>\n",
       "      <td>1</td>\n",
       "      <td>0.2780</td>\n",
       "      <td>160.070</td>\n",
       "      <td>4</td>\n",
       "      <td>audio_features</td>\n",
       "      <td>0.854</td>\n",
       "    </tr>\n",
       "    <tr>\n",
       "      <td>4</td>\n",
       "      <td>0.01620</td>\n",
       "      <td>0.588</td>\n",
       "      <td>228173</td>\n",
       "      <td>0.742</td>\n",
       "      <td>5kRBzRZmZTXVg8okC7SJFZ</td>\n",
       "      <td>0.000004</td>\n",
       "      <td>8</td>\n",
       "      <td>0.6530</td>\n",
       "      <td>-6.757</td>\n",
       "      <td>1</td>\n",
       "      <td>0.0528</td>\n",
       "      <td>125.819</td>\n",
       "      <td>4</td>\n",
       "      <td>audio_features</td>\n",
       "      <td>0.824</td>\n",
       "    </tr>\n",
       "  </tbody>\n",
       "</table>\n",
       "</div>"
      ],
      "text/plain": [
       "   acousticness  danceability  duration_ms  energy                      id  \\\n",
       "0       0.00703         0.591       187853   0.901  0mb7btREdC3wuIUmuVRgWn   \n",
       "1       0.60200         0.740       182720   0.521  6NjhADkaWwGYO0R7eZXyI4   \n",
       "2       0.92300         0.606       280521   0.301  5gA5Tvu7zlihzqUvmPUqoi   \n",
       "3       0.11600         0.741       120560   0.913  2Q0WZoJaRJlelcxqOvowUc   \n",
       "4       0.01620         0.588       228173   0.742  5kRBzRZmZTXVg8okC7SJFZ   \n",
       "\n",
       "   instrumentalness  key  liveness  loudness  mode  speechiness    tempo  \\\n",
       "0          0.000000   10    0.0649    -4.328     0       0.1500  175.345   \n",
       "1          0.000000    0    0.1110   -10.663     1       0.3650  159.694   \n",
       "2          0.000000    9    0.2970   -15.735     0       0.8610   62.876   \n",
       "3          0.000001   11    0.0783    -5.453     1       0.2780  160.070   \n",
       "4          0.000004    8    0.6530    -6.757     1       0.0528  125.819   \n",
       "\n",
       "   time_signature            type  valence  \n",
       "0               4  audio_features    0.694  \n",
       "1               4  audio_features    0.904  \n",
       "2               3  audio_features    0.941  \n",
       "3               4  audio_features    0.854  \n",
       "4               4  audio_features    0.824  "
      ]
     },
     "execution_count": 7,
     "metadata": {},
     "output_type": "execute_result"
    }
   ],
   "source": [
    "stats_df = stats_df[[\"acousticness\", \"danceability\", \"duration_ms\", \"energy\", \"id\", \"instrumentalness\", \"key\", \"liveness\", \"loudness\", \"mode\", \"speechiness\", \"tempo\", \"time_signature\", \"type\", \"valence\"]]\n",
    "stats_df.head()"
   ]
  },
  {
   "cell_type": "code",
   "execution_count": 17,
   "metadata": {},
   "outputs": [
    {
     "data": {
      "text/plain": [
       "Position            44846\n",
       "Track Name          44846\n",
       "Artist              44846\n",
       "Date                44846\n",
       "acousticness        44846\n",
       "danceability        44846\n",
       "duration_ms         44846\n",
       "energy              44846\n",
       "instrumentalness    44846\n",
       "key                 44846\n",
       "liveness            44846\n",
       "loudness            44846\n",
       "mode                44846\n",
       "speechiness         44846\n",
       "tempo               44846\n",
       "time_signature      44846\n",
       "type                44846\n",
       "valence             44846\n",
       "dtype: int64"
      ]
     },
     "execution_count": 17,
     "metadata": {},
     "output_type": "execute_result"
    }
   ],
   "source": [
    "complete_df = top50_chart_df.merge(stats_df, on = \"id\")\n",
    "complete_df = complete_df[[\"Position\", \"Track Name\", \"Artist\", \"Date\", \"acousticness\", \"danceability\", \"duration_ms\", \"energy\", \"instrumentalness\", \"key\", \"liveness\", \"loudness\", \"mode\", \"speechiness\", \"tempo\", \"time_signature\", \"type\", \"valence\"]]\n",
    "complete_df = complete_df.dropna()\n",
    "complete_df.count()"
   ]
  },
  {
   "cell_type": "markdown",
   "metadata": {},
   "source": [
    "## Hypothesis: If we determine the optimal mix of the variables related to a successful song in Mexico, then we can help the artist release a successful song in the last quarter of 2020:"
   ]
  },
  {
   "cell_type": "markdown",
   "metadata": {},
   "source": [
    "## If the tempo of a song is higher than 100 bpm, then it will be more popular."
   ]
  },
  {
   "cell_type": "code",
   "execution_count": 26,
   "metadata": {},
   "outputs": [],
   "source": [
    "def bins_list (min, max, bins):\n",
    "    \n",
    "    # Returns an array containing enough numbers to evenly cut in bins a range of numbers. \n",
    "    \n",
    "    values = []\n",
    "    x = min\n",
    "    step = (max - min) / bins\n",
    "    while x <= max:\n",
    "        values.append(x)\n",
    "        x += step\n",
    "        \n",
    "    return values"
   ]
  },
  {
   "cell_type": "code",
   "execution_count": 42,
   "metadata": {},
   "outputs": [
    {
     "data": {
      "image/png": "[encoded data removed]",
      "text/plain": [
       "<Figure size 432x288 with 1 Axes>"
      ]
     },
     "metadata": {
      "needs_background": "light"
     },
     "output_type": "display_data"
    }
   ],
   "source": [
    "tempo_min = complete_df[\"tempo\"].min()\n",
    "tempo_max = complete_df[\"tempo\"].max()\n",
    "\n",
    "tempo_bins = bins_list(tempo_min, tempo_max, 70)\n",
    "\n",
    "tempo_category = pd.cut(complete_df[\"tempo\"], bins = tempo_bins)\n",
    "complete_df[\"Tempo Category\"] = tempo_category\n",
    "plt.hist(complete_df[\"tempo\"], tempo_bins)\n",
    "plt.xlabel(\"Tempo [Hz]\")\n",
    "plt.ylabel(\"Appearances in Top 50 Chart\")\n",
    "plt.show()"
   ]
  },
  {
   "cell_type": "code",
   "execution_count": 52,
   "metadata": {},
   "outputs": [
    {
     "data": {
      "image/png": "[encoded data removed]",
      "text/plain": [
       "<Figure size 432x288 with 1 Axes>"
      ]
     },
     "metadata": {
      "needs_background": "light"
     },
     "output_type": "display_data"
    }
   ],
   "source": [
    "complete_df[\"Tempo Category\"] = tempo_category\n",
    "plt.hist(complete_df[\"tempo\"], tempo_bins, cumulative = True, density = True)\n",
    "plt.xlabel(\"Tempo [Hz]\")\n",
    "plt.ylabel(\"Cumulative probability\")\n",
    "plt.vlines(100, 0, 1)\n",
    "plt.show()"
   ]
  },
  {
   "cell_type": "code",
   "execution_count": 77,
   "metadata": {},
   "outputs": [
    {
     "data": {
      "text/plain": [
       "Una Lady Como Tú                      173\n",
       "Bella                                 171\n",
       "Sin Pijama                            145\n",
       "No Me Acuerdo                         115\n",
       "Shallow                               110\n",
       "                                     ... \n",
       "Ilaló                                   1\n",
       "Bye Bye (feat. Fntxy)                   1\n",
       "Loser                                   1\n",
       "Yo Soy Yo                               1\n",
       "Llevame (feat. Freddo Lucky Bossi)      1\n",
       "Name: Track Name, Length: 199, dtype: int64"
      ]
     },
     "execution_count": 77,
     "metadata": {},
     "output_type": "execute_result"
    }
   ],
   "source": [
    "value_counts = complete_df[\"Tempo Category\"].value_counts()\n",
    "most_popular_tempo_df = complete_df.loc[(complete_df[\"tempo\"] > 93.975) & (complete_df[\"tempo\"] <= 96.338),:]\n",
    "most_popular_tempo_df.head()\n",
    "\n",
    "most_popular_tempo_df[\"Track Name\"].value_counts()\n",
    "\n",
    "#complete_df.head()"
   ]
  },
  {
   "cell_type": "markdown",
   "metadata": {},
   "source": [
    "## If the chooses to release a reggaeton song, then it will remain in the Top 50 Chart throughout the next year."
   ]
  },
  {
   "cell_type": "markdown",
   "metadata": {},
   "source": [
    "## If a song has a higher level of energy, then it will be more likely to be in the Top 50 throughout the next year."
   ]
  },
  {
   "cell_type": "markdown",
   "metadata": {},
   "source": [
    "## If a song has a higher level of danceability, then it will be more likely to be in the Top 50 throughout the next year."
   ]
  },
  {
   "cell_type": "code",
   "execution_count": null,
   "metadata": {},
   "outputs": [],
   "source": []
  }
 ],
 "metadata": {
  "kernelspec": {
   "display_name": "Python 3",
   "language": "python",
   "name": "python3"
  },
  "language_info": {
   "codemirror_mode": {
    "name": "ipython",
    "version": 3
   },
   "file_extension": ".py",
   "mimetype": "text/x-python",
   "name": "python",
   "nbconvert_exporter": "python",
   "pygments_lexer": "ipython3",
   "version": "3.7.4"
  }
 },
 "nbformat": 4,
 "nbformat_minor": 2
}
