{
 "cells": [
  {
   "cell_type": "markdown",
   "metadata": {},
   "source": [
    "# Project-1-Spotify\n",
    "\n",
    "We are a consulting company for independent artists. We are helping a new Mexican artist to launch their next hit in Mexico and Latin America, which is planned to be released in last quarter 2020 in the Spotify platform, to remain in the Top 50 Chart throughout the next year.\n",
    "\n",
    "Tasks:\n",
    "\n",
    "* Identify most popular music genres in the population segment that the artist is targeting.\n",
    "* Identify patterns in the tempo, energy, danceability and acousticness of the music that people in that segment listen to in different quarters.\n",
    "* Define the properties that the artist's song should have to be succesful in last quarter 2020 in Mexico and Latin America.\n",
    "* Predict how popular this song will be in upcoming quarters.\n"
   ]
  },
  {
   "cell_type": "markdown",
   "metadata": {},
   "source": [
    "## Data preparation"
   ]
  },
  {
   "cell_type": "code",
   "execution_count": 2,
   "metadata": {},
   "outputs": [],
   "source": [
    "#Import dependencies\n",
    "import pandas as pd\n",
    "import matplotlib.pyplot as plt\n",
    "import scipy.stats as stats\n",
    "import os\n",
    "import csv\n",
    "\n",
    "#Import Top 50 chart and Stats table. Get track ID from URL.\n",
    "top50_chart_df = pd.read_excel(\"chartmx_03_20.xlsx\", index = False)\n",
    "stats_df = pd.read_excel(\"audiofmx.xlsx\", index = False)\n",
    "\n",
    "top50_chart_df[\"id\"] = top50_chart_df[\"URL\"].str[-22:]\n"
   ]
  },
  {
   "cell_type": "code",
   "execution_count": 3,
   "metadata": {},
   "outputs": [],
   "source": [
    "#Select columns from both Data Frames\n",
    "top50_chart_df = top50_chart_df[[\"Position\", \"Track Name\", \"Artist\", \"Date\", \"id\"]]\n",
    "stats_df = stats_df[[\"acousticness\", \"danceability\", \"duration_ms\", \"energy\", \"id\", \"instrumentalness\", \"key\", \"liveness\", \"loudness\", \"mode\", \"speechiness\", \"tempo\", \"time_signature\", \"type\", \"valence\"]]"
   ]
  },
  {
   "cell_type": "code",
   "execution_count": 4,
   "metadata": {},
   "outputs": [],
   "source": [
    "#Import genre data set from 'tsv' file as list.\n",
    "genres_tsv = os.path.join(\"songDb.tsv\")\n",
    "with open(genres_tsv, \"r\") as csvfile:\n",
    "    csvreader = csv.reader(csvfile, delimiter = \"\\t\")\n",
    "    genres_data = list(csvreader)\n",
    "\n",
    "#Remove empty rows from original list.\n",
    "genres_data_clean = []\n",
    "for element in genres_data:\n",
    "    if element != []:\n",
    "        genres_data_clean.append(element)\n",
    "\n",
    "#Convert original data set to Pandas DataFrame and promote first row as header.\n",
    "genres_df = pd.DataFrame(genres_data_clean)\n",
    "new_header = genres_df.iloc[0]\n",
    "genres_df = genres_df[1:]\n",
    "genres_df.columns = new_header\n",
    "genres_df = genres_df.rename(columns = {\"ID\": \"id\"})\n",
    "genres_df = genres_df[[\"id\", \"Genre\"]]"
   ]
  },
  {
   "cell_type": "code",
   "execution_count": 5,
   "metadata": {},
   "outputs": [
    {
     "data": {
      "text/html": [
       "<div>\n",
       "<style scoped>\n",
       "    .dataframe tbody tr th:only-of-type {\n",
       "        vertical-align: middle;\n",
       "    }\n",
       "\n",
       "    .dataframe tbody tr th {\n",
       "        vertical-align: top;\n",
       "    }\n",
       "\n",
       "    .dataframe thead th {\n",
       "        text-align: right;\n",
       "    }\n",
       "</style>\n",
       "<table border=\"1\" class=\"dataframe\">\n",
       "  <thead>\n",
       "    <tr style=\"text-align: right;\">\n",
       "      <th></th>\n",
       "      <th>Position</th>\n",
       "      <th>Track Name</th>\n",
       "      <th>Artist</th>\n",
       "      <th>Date</th>\n",
       "      <th>acousticness</th>\n",
       "      <th>danceability</th>\n",
       "      <th>duration_ms</th>\n",
       "      <th>energy</th>\n",
       "      <th>instrumentalness</th>\n",
       "      <th>key</th>\n",
       "      <th>liveness</th>\n",
       "      <th>loudness</th>\n",
       "      <th>mode</th>\n",
       "      <th>speechiness</th>\n",
       "      <th>tempo</th>\n",
       "      <th>time_signature</th>\n",
       "      <th>type</th>\n",
       "      <th>valence</th>\n",
       "      <th>id</th>\n",
       "      <th>Genre</th>\n",
       "    </tr>\n",
       "  </thead>\n",
       "  <tbody>\n",
       "    <tr>\n",
       "      <td>0</td>\n",
       "      <td>7</td>\n",
       "      <td>Hear Me Now</td>\n",
       "      <td>Alok</td>\n",
       "      <td>2017-01-01</td>\n",
       "      <td>0.586</td>\n",
       "      <td>0.789</td>\n",
       "      <td>192846</td>\n",
       "      <td>0.442</td>\n",
       "      <td>0.00366</td>\n",
       "      <td>11</td>\n",
       "      <td>0.0927</td>\n",
       "      <td>-7.844</td>\n",
       "      <td>1</td>\n",
       "      <td>0.0421</td>\n",
       "      <td>121.971</td>\n",
       "      <td>4</td>\n",
       "      <td>audio_features</td>\n",
       "      <td>0.45</td>\n",
       "      <td>1a5Yu5L18qNxVhXx38njON</td>\n",
       "      <td>indiepoptimism</td>\n",
       "    </tr>\n",
       "    <tr>\n",
       "      <td>1</td>\n",
       "      <td>7</td>\n",
       "      <td>Hear Me Now</td>\n",
       "      <td>Alok</td>\n",
       "      <td>2017-01-02</td>\n",
       "      <td>0.586</td>\n",
       "      <td>0.789</td>\n",
       "      <td>192846</td>\n",
       "      <td>0.442</td>\n",
       "      <td>0.00366</td>\n",
       "      <td>11</td>\n",
       "      <td>0.0927</td>\n",
       "      <td>-7.844</td>\n",
       "      <td>1</td>\n",
       "      <td>0.0421</td>\n",
       "      <td>121.971</td>\n",
       "      <td>4</td>\n",
       "      <td>audio_features</td>\n",
       "      <td>0.45</td>\n",
       "      <td>1a5Yu5L18qNxVhXx38njON</td>\n",
       "      <td>indiepoptimism</td>\n",
       "    </tr>\n",
       "    <tr>\n",
       "      <td>2</td>\n",
       "      <td>10</td>\n",
       "      <td>Hear Me Now</td>\n",
       "      <td>Alok</td>\n",
       "      <td>2017-01-03</td>\n",
       "      <td>0.586</td>\n",
       "      <td>0.789</td>\n",
       "      <td>192846</td>\n",
       "      <td>0.442</td>\n",
       "      <td>0.00366</td>\n",
       "      <td>11</td>\n",
       "      <td>0.0927</td>\n",
       "      <td>-7.844</td>\n",
       "      <td>1</td>\n",
       "      <td>0.0421</td>\n",
       "      <td>121.971</td>\n",
       "      <td>4</td>\n",
       "      <td>audio_features</td>\n",
       "      <td>0.45</td>\n",
       "      <td>1a5Yu5L18qNxVhXx38njON</td>\n",
       "      <td>indiepoptimism</td>\n",
       "    </tr>\n",
       "    <tr>\n",
       "      <td>3</td>\n",
       "      <td>11</td>\n",
       "      <td>Hear Me Now</td>\n",
       "      <td>Alok</td>\n",
       "      <td>2017-01-04</td>\n",
       "      <td>0.586</td>\n",
       "      <td>0.789</td>\n",
       "      <td>192846</td>\n",
       "      <td>0.442</td>\n",
       "      <td>0.00366</td>\n",
       "      <td>11</td>\n",
       "      <td>0.0927</td>\n",
       "      <td>-7.844</td>\n",
       "      <td>1</td>\n",
       "      <td>0.0421</td>\n",
       "      <td>121.971</td>\n",
       "      <td>4</td>\n",
       "      <td>audio_features</td>\n",
       "      <td>0.45</td>\n",
       "      <td>1a5Yu5L18qNxVhXx38njON</td>\n",
       "      <td>indiepoptimism</td>\n",
       "    </tr>\n",
       "    <tr>\n",
       "      <td>4</td>\n",
       "      <td>14</td>\n",
       "      <td>Hear Me Now</td>\n",
       "      <td>Alok</td>\n",
       "      <td>2017-01-05</td>\n",
       "      <td>0.586</td>\n",
       "      <td>0.789</td>\n",
       "      <td>192846</td>\n",
       "      <td>0.442</td>\n",
       "      <td>0.00366</td>\n",
       "      <td>11</td>\n",
       "      <td>0.0927</td>\n",
       "      <td>-7.844</td>\n",
       "      <td>1</td>\n",
       "      <td>0.0421</td>\n",
       "      <td>121.971</td>\n",
       "      <td>4</td>\n",
       "      <td>audio_features</td>\n",
       "      <td>0.45</td>\n",
       "      <td>1a5Yu5L18qNxVhXx38njON</td>\n",
       "      <td>indiepoptimism</td>\n",
       "    </tr>\n",
       "  </tbody>\n",
       "</table>\n",
       "</div>"
      ],
      "text/plain": [
       "   Position   Track Name Artist        Date  acousticness  danceability  \\\n",
       "0         7  Hear Me Now   Alok  2017-01-01         0.586         0.789   \n",
       "1         7  Hear Me Now   Alok  2017-01-02         0.586         0.789   \n",
       "2        10  Hear Me Now   Alok  2017-01-03         0.586         0.789   \n",
       "3        11  Hear Me Now   Alok  2017-01-04         0.586         0.789   \n",
       "4        14  Hear Me Now   Alok  2017-01-05         0.586         0.789   \n",
       "\n",
       "   duration_ms  energy  instrumentalness  key  liveness  loudness  mode  \\\n",
       "0       192846   0.442           0.00366   11    0.0927    -7.844     1   \n",
       "1       192846   0.442           0.00366   11    0.0927    -7.844     1   \n",
       "2       192846   0.442           0.00366   11    0.0927    -7.844     1   \n",
       "3       192846   0.442           0.00366   11    0.0927    -7.844     1   \n",
       "4       192846   0.442           0.00366   11    0.0927    -7.844     1   \n",
       "\n",
       "   speechiness    tempo  time_signature            type  valence  \\\n",
       "0       0.0421  121.971               4  audio_features     0.45   \n",
       "1       0.0421  121.971               4  audio_features     0.45   \n",
       "2       0.0421  121.971               4  audio_features     0.45   \n",
       "3       0.0421  121.971               4  audio_features     0.45   \n",
       "4       0.0421  121.971               4  audio_features     0.45   \n",
       "\n",
       "                       id           Genre  \n",
       "0  1a5Yu5L18qNxVhXx38njON  indiepoptimism  \n",
       "1  1a5Yu5L18qNxVhXx38njON  indiepoptimism  \n",
       "2  1a5Yu5L18qNxVhXx38njON  indiepoptimism  \n",
       "3  1a5Yu5L18qNxVhXx38njON  indiepoptimism  \n",
       "4  1a5Yu5L18qNxVhXx38njON  indiepoptimism  "
      ]
     },
     "execution_count": 5,
     "metadata": {},
     "output_type": "execute_result"
    }
   ],
   "source": [
    "#Merge Top 50 chart DataFrame with stats DataFrame in `complete_df` DataFrame.\n",
    "complete_df = top50_chart_df.merge(stats_df, on = \"id\")\n",
    "complete_df = complete_df[[\"Position\", \"Track Name\", \"Artist\", \"Date\", \"acousticness\", \"danceability\", \"duration_ms\", \"energy\", \"instrumentalness\", \"key\", \"liveness\", \"loudness\", \"mode\", \"speechiness\", \"tempo\", \"time_signature\", \"type\", \"valence\", \"id\"]]\n",
    "\n",
    "#Merge `complete_df` DataFrame with genre DataFrame. Remove NA's\n",
    "complete_df = complete_df.merge(genres_df, on = \"id\")\n",
    "complete_df = complete_df.dropna()\n",
    "complete_df.head()"
   ]
  },
  {
   "cell_type": "markdown",
   "metadata": {},
   "source": [
    "**Hypothesis: If we determine the optimal mix of the variables related to a successful song in Mexico, then we can help the artist release a successful song in the last quarter of 2020:**"
   ]
  },
  {
   "cell_type": "markdown",
   "metadata": {},
   "source": [
    "**If the tempo of a song is higher than 100 bpm, then it will be more popular.**\n",
    "\n",
    "We will start by characterizing the tempos in 70 equally spaced bins."
   ]
  },
  {
   "cell_type": "code",
   "execution_count": 6,
   "metadata": {},
   "outputs": [],
   "source": [
    "def bins_list (min, max, bins):\n",
    "    \n",
    "    # Returns an array containing enough numbers to evenly cut in bins a range of numbers. \n",
    "    \n",
    "    values = []\n",
    "    x = min\n",
    "    step = (max - min) / bins\n",
    "    while x <= max:\n",
    "        values.append(x)\n",
    "        x += step\n",
    "        \n",
    "    return values"
   ]
  },
  {
   "cell_type": "code",
   "execution_count": 7,
   "metadata": {},
   "outputs": [
    {
     "data": {
      "image/png": "[encoded data removed]",
      "text/plain": [
       "<Figure size 432x288 with 1 Axes>"
      ]
     },
     "metadata": {
      "needs_background": "light"
     },
     "output_type": "display_data"
    }
   ],
   "source": [
    "tempo_min = complete_df[\"tempo\"].min()\n",
    "tempo_max = complete_df[\"tempo\"].max()\n",
    "\n",
    "tempo_bins = bins_list(tempo_min, tempo_max, 70)\n",
    "\n",
    "complete_mean = complete_df[\"tempo\"].mean()\n",
    "complete_mode = complete_df[\"tempo\"].mode()\n",
    "complete_median = complete_df[\"tempo\"].median()\n",
    "\n",
    "\n",
    "tempo_category = pd.cut(complete_df[\"tempo\"], bins = tempo_bins)\n",
    "complete_df[\"Tempo Category\"] = tempo_category\n",
    "plt.hist(complete_df[\"tempo\"], tempo_bins)\n",
    "plt.xlabel(\"Tempo [bpm]\")\n",
    "#plt.ylabel(\"Appearances in Top 50 Chart\")\n",
    "plt.vlines(complete_mean, 0, 7000, color = \"red\")\n",
    "plt.vlines(complete_mode, 0, 7000, color = \"red\")\n",
    "plt.vlines(complete_median, 0, 7000, color = \"red\")\n",
    "#plt.text(125,4000,f\"Mode: {round(complete_mean,2)} bpm \", color = \"red\", size = \"large\")\n",
    "plt.show()"
   ]
  },
  {
   "cell_type": "code",
   "execution_count": 8,
   "metadata": {},
   "outputs": [
    {
     "data": {
      "image/png": "[encoded data removed]",
      "text/plain": [
       "<Figure size 432x288 with 1 Axes>"
      ]
     },
     "metadata": {
      "needs_background": "light"
     },
     "output_type": "display_data"
    }
   ],
   "source": [
    "complete_df[\"Tempo Category\"] = tempo_category\n",
    "plt.hist(complete_df[\"tempo\"], tempo_bins, cumulative = True, density = True)\n",
    "plt.xlabel(\"Tempo [bpm]\")\n",
    "plt.ylabel(\"Cumulative probability\")\n",
    "p_less_100 = complete_df[\"tempo\"].loc[complete_df[\"tempo\"] < 100].count() / complete_df[\"Track Name\"].count()\n",
    "p_more_100 = complete_df[\"tempo\"].loc[complete_df[\"tempo\"] > 100].count() / complete_df[\"Track Name\"].count()\n",
    "plt.vlines(100, 0, 1, color = \"red\")\n",
    "plt.text(150, 0.45, f\"p2 = {round(p_more_100,4)}\", size = \"large\")\n",
    "plt.text(50, 0.45, f\"p1 = {round(p_less_100,4)}\", size = \"large\")\n",
    "plt.text(60, 0.8, \"100 bpm\", c = \"red\", size = \"x-large\")\n",
    "plt.title(\"Cumulative probability in total listens\", size = \"x-large\")\n",
    "plt.show()"
   ]
  },
  {
   "cell_type": "code",
   "execution_count": 9,
   "metadata": {},
   "outputs": [
    {
     "data": {
      "image/png": "[encoded data removed]",
      "text/plain": [
       "<Figure size 432x288 with 1 Axes>"
      ]
     },
     "metadata": {
      "needs_background": "light"
     },
     "output_type": "display_data"
    }
   ],
   "source": [
    "unique_df = complete_df.drop_duplicates(subset = \"id\")\n",
    "unique_df = unique_df[[\"Track Name\", \"tempo\", \"Tempo Category\", \"Genre\"]]\n",
    "unique_mode = unique_df[\"tempo\"].mode()\n",
    "unique_median = unique_df[\"tempo\"].median()\n",
    "unique_mean = unique_df[\"tempo\"].mean()\n",
    "\n",
    "plt.hist(unique_df[\"tempo\"], tempo_bins)\n",
    "plt.xlabel(\"Tempo [bpm]\")\n",
    "plt.ylabel(\"Appearances in Top 50 Chart\")\n",
    "plt.vlines(unique_mode, 0, 50, color = \"red\")\n",
    "plt.vlines(unique_median, 0, 50, color = \"red\")\n",
    "plt.vlines(unique_mean, 0, 50, color = \"red\")\n",
    "#plt.text(125,150,f\"Mode: {round(unique_mode,2)} bpm\", color = \"red\", size = \"large\")\n",
    "plt.show()"
   ]
  },
  {
   "cell_type": "code",
   "execution_count": 10,
   "metadata": {},
   "outputs": [
    {
     "data": {
      "image/png": "[encoded data removed]",
      "text/plain": [
       "<Figure size 432x288 with 1 Axes>"
      ]
     },
     "metadata": {
      "needs_background": "light"
     },
     "output_type": "display_data"
    }
   ],
   "source": [
    "unique_df[\"Tempo Category\"] = tempo_category\n",
    "plt.hist(unique_df[\"tempo\"], tempo_bins, cumulative = True, density = True)\n",
    "plt.xlabel(\"Tempo [bpm]\")\n",
    "plt.ylabel(\"Cumulative probability\")\n",
    "p_less_100 = unique_df[\"tempo\"].loc[unique_df[\"tempo\"] < 100].count() / unique_df[\"Track Name\"].count()\n",
    "p_more_100 = unique_df[\"tempo\"].loc[unique_df[\"tempo\"] > 100].count() / unique_df[\"Track Name\"].count()\n",
    "plt.vlines(100, 0, 1, color = \"red\")\n",
    "plt.text(150, 0.45, f\"p2 = {round(p_more_100,4)}\", size = \"large\")\n",
    "plt.text(50, 0.45, f\"p1 = {round(p_less_100,4)}\", size = \"large\")\n",
    "plt.text(60, 0.8, \"100 bpm\", c = \"red\", size = \"x-large\")\n",
    "plt.title(\"Cumulative probability in unique tracks\", size = \"x-large\")\n",
    "plt.show()"
   ]
  },
  {
   "cell_type": "code",
   "execution_count": 11,
   "metadata": {},
   "outputs": [
    {
     "data": {
      "text/plain": [
       "Ttest_indResult(statistic=-0.20843171986979858, pvalue=0.8348926451421976)"
      ]
     },
     "execution_count": 11,
     "metadata": {},
     "output_type": "execute_result"
    }
   ],
   "source": [
    "stats.ttest_ind(complete_df[\"tempo\"], unique_df[\"tempo\"])"
   ]
  },
  {
   "cell_type": "markdown",
   "metadata": {},
   "source": [
    "Our hypothesis test indicates that there is no difference between the mean value observed in a complete data set (containing all appearances in the Top 50 charts of a given song in the last three years) and the mean value observed in the set containing the unique values of songs. Since p > 0.05 for this test, we can thus accept our null hypothesis and consider that both distributions are similar. Then, tempo is a relevant factor for the popularity of a song."
   ]
  },
  {
   "cell_type": "code",
   "execution_count": 13,
   "metadata": {},
   "outputs": [
    {
     "data": {
      "text/plain": [
       "<matplotlib.axes._subplots.AxesSubplot at 0x17220179cc8>"
      ]
     },
     "execution_count": 13,
     "metadata": {},
     "output_type": "execute_result"
    },
    {
     "data": {
      "image/png": "[encoded data removed]",
      "text/plain": [
       "<Figure size 432x288 with 1 Axes>"
      ]
     },
     "metadata": {
      "needs_background": "light"
     },
     "output_type": "display_data"
    }
   ],
   "source": [
    "#unique_df.head()\n",
    "#unique_df.boxplot(\"tempo\", by = \"Genre\")\n",
    "\n",
    "#unique_df[\"Genre\"].value_counts()\n",
    "#print(complete_df[\"Genre\"].value_counts())\n",
    "\n",
    "most_popular_df = complete_df.loc[(complete_df[\"Genre\"] == \"lapop\") |\n",
    "                                  (complete_df[\"Genre\"] == \"electrolatino\") |\n",
    "                                  (complete_df[\"Genre\"] == \"classicsoundtrack\") |\n",
    "                                  (complete_df[\"Genre\"] == \"ukpop\") |\n",
    "                                  (complete_df[\"Genre\"] == \"reggaeton\"),:]\n",
    "\n",
    "plot = most_popular_df.boxplot(\"tempo\", by = \"Genre\", grid = False)\n",
    "plot.set_ylabel(\"Tempo [bpm]\")\n",
    "plot.set_title(\"\")\n",
    "plot"
   ]
  },
  {
   "cell_type": "markdown",
   "metadata": {},
   "source": [
    "## If the chooses to release a reggaeton song, then it will remain in the Top 50 Chart throughout the next year."
   ]
  },
  {
   "cell_type": "markdown",
   "metadata": {},
   "source": [
    "## If a song has a higher level of energy, then it will be more likely to be in the Top 50 throughout the next year."
   ]
  },
  {
   "cell_type": "code",
   "execution_count": 12,
   "metadata": {
    "scrolled": false
   },
   "outputs": [
    {
     "data": {
      "text/html": [
       "<div>\n",
       "<style scoped>\n",
       "    .dataframe tbody tr th:only-of-type {\n",
       "        vertical-align: middle;\n",
       "    }\n",
       "\n",
       "    .dataframe tbody tr th {\n",
       "        vertical-align: top;\n",
       "    }\n",
       "\n",
       "    .dataframe thead th {\n",
       "        text-align: right;\n",
       "    }\n",
       "</style>\n",
       "<table border=\"1\" class=\"dataframe\">\n",
       "  <thead>\n",
       "    <tr style=\"text-align: right;\">\n",
       "      <th></th>\n",
       "      <th>Genre</th>\n",
       "      <th>Num of songs</th>\n",
       "    </tr>\n",
       "  </thead>\n",
       "  <tbody>\n",
       "    <tr>\n",
       "      <td>0</td>\n",
       "      <td>lapop</td>\n",
       "      <td>8340</td>\n",
       "    </tr>\n",
       "    <tr>\n",
       "      <td>1</td>\n",
       "      <td>electrolatino</td>\n",
       "      <td>7626</td>\n",
       "    </tr>\n",
       "    <tr>\n",
       "      <td>2</td>\n",
       "      <td>classicsoundtrack</td>\n",
       "      <td>3531</td>\n",
       "    </tr>\n",
       "    <tr>\n",
       "      <td>3</td>\n",
       "      <td>ukpop</td>\n",
       "      <td>2974</td>\n",
       "    </tr>\n",
       "    <tr>\n",
       "      <td>4</td>\n",
       "      <td>reggaeton</td>\n",
       "      <td>2259</td>\n",
       "    </tr>\n",
       "  </tbody>\n",
       "</table>\n",
       "</div>"
      ],
      "text/plain": [
       "               Genre  Num of songs\n",
       "0              lapop          8340\n",
       "1      electrolatino          7626\n",
       "2  classicsoundtrack          3531\n",
       "3              ukpop          2974\n",
       "4          reggaeton          2259"
      ]
     },
     "execution_count": 12,
     "metadata": {},
     "output_type": "execute_result"
    }
   ],
   "source": [
    "genre_extract_df = complete_df[[\"Position\", \"Track Name\", \"Artist\", \"Date\", \"id\", \"Genre\"]]\n",
    "genre_df=genre_extract_df['Genre'].value_counts()\n",
    "genre_df=pd.DataFrame(genre_df)\n",
    "genre_df=genre_df.sort_values('Genre',ascending=False)\n",
    "genre_df=genre_df.reset_index()\n",
    "genre_df=genre_df.rename(columns={'Genre':'Num of songs', 'index':'Genre'})\n",
    "top15_genre_df=genre_df.nlargest(5, ['Num of songs'])\n",
    "top15_genre_df"
   ]
  },
  {
   "cell_type": "code",
   "execution_count": 15,
   "metadata": {},
   "outputs": [
    {
     "data": {
      "text/plain": [
       "<matplotlib.axes._subplots.AxesSubplot at 0x1722020ec88>"
      ]
     },
     "execution_count": 15,
     "metadata": {},
     "output_type": "execute_result"
    },
    {
     "data": {
      "image/png": "[encoded data removed]",
      "text/plain": [
       "<Figure size 1440x720 with 1 Axes>"
      ]
     },
     "metadata": {
      "needs_background": "light"
     },
     "output_type": "display_data"
    }
   ],
   "source": [
    "most_popular_df_energy = complete_df.loc[(complete_df[\"Genre\"] == \"lapop\") |\n",
    "                                         (complete_df[\"Genre\"] == \"electrolatino\") |\n",
    "                                         (complete_df[\"Genre\"] == \"classicsoundtrack\") |\n",
    "                                         (complete_df[\"Genre\"] == \"ukpop\") |\n",
    "                                         (complete_df[\"Genre\"] == \"reggaeton\"),:]\n",
    "\n",
    "plot = most_popular_df.boxplot(\"energy\", by = \"Genre\", grid = False,figsize=(20,10))\n",
    "plot.set_ylabel(\"energy\")\n",
    "plot.set_title(\"\")\n",
    "plot\n",
    "plot"
   ]
  },
  {
   "cell_type": "code",
   "execution_count": 16,
   "metadata": {},
   "outputs": [
    {
     "data": {
      "text/plain": [
       "<matplotlib.axes._subplots.AxesSubplot at 0x172219b2788>"
      ]
     },
     "execution_count": 16,
     "metadata": {},
     "output_type": "execute_result"
    },
    {
     "data": {
      "image/png": "[encoded data removed]",
      "text/plain": [
       "<Figure size 1440x720 with 1 Axes>"
      ]
     },
     "metadata": {
      "needs_background": "light"
     },
     "output_type": "display_data"
    }
   ],
   "source": [
    "most_popular_df_dance = complete_df.loc[(complete_df[\"Genre\"] == \"lapop\") |\n",
    "                                         (complete_df[\"Genre\"] == \"electrolatino\") |\n",
    "                                         (complete_df[\"Genre\"] == \"classicsoundtrack\") |\n",
    "                                         (complete_df[\"Genre\"] == \"ukpop\") |\n",
    "                                         (complete_df[\"Genre\"] == \"reggaeton\"),:]\n",
    "\n",
    "plot = most_popular_df.boxplot(\"danceability\", by = \"Genre\", grid = False,figsize=(20,10))\n",
    "plot.set_ylabel(\"Danceability\")\n",
    "plot.set_title(\"\")\n",
    "plot\n",
    "plot"
   ]
  },
  {
   "cell_type": "code",
   "execution_count": 18,
   "metadata": {},
   "outputs": [],
   "source": [
    "group1=most_popular_df_dance[most_popular_df_dance[\"Genre\"]==\"lapop\"][\"danceability\"]\n",
    "group2=most_popular_df_dance[most_popular_df_dance[\"Genre\"]==\"electrolatino\"][\"danceability\"]\n",
    "group3=most_popular_df_dance[most_popular_df_dance[\"Genre\"]==\"classicsoundtrack\"][\"danceability\"]\n",
    "group4=most_popular_df_dance[most_popular_df_dance[\"Genre\"]==\"ukpop\"][\"danceability\"]\n",
    "group5=most_popular_df_dance[most_popular_df_dance[\"Genre\"]==\"ukpop\"][\"danceability\"]"
   ]
  },
  {
   "cell_type": "code",
   "execution_count": 19,
   "metadata": {},
   "outputs": [
    {
     "data": {
      "text/plain": [
       "F_onewayResult(statistic=305.6158719189037, pvalue=3.1094655330479858e-257)"
      ]
     },
     "execution_count": 19,
     "metadata": {},
     "output_type": "execute_result"
    }
   ],
   "source": [
    "stats.f_oneway(group1,group2,group3,group4,group5)"
   ]
  },
  {
   "cell_type": "code",
   "execution_count": 13,
   "metadata": {
    "scrolled": true
   },
   "outputs": [
    {
     "data": {
      "text/plain": [
       "Text(0.5, 1.0, 'Energy of songs of Genre Latin Pop')"
      ]
     },
     "execution_count": 13,
     "metadata": {},
     "output_type": "execute_result"
    },
    {
     "data": {
      "image/png": "[encoded data removed]",
      "text/plain": [
       "<Figure size 432x288 with 1 Axes>"
      ]
     },
     "metadata": {
      "needs_background": "light"
     },
     "output_type": "display_data"
    }
   ],
   "source": [
    "genre_lapop=pd.DataFrame(complete_df[complete_df[\"Genre\"]==\"lapop\"][\"energy\"])\n",
    "box_g=genre_lapop.boxplot()\n",
    "box_g.set_title('Energy of songs of Genre Latin Pop')\n"
   ]
  },
  {
   "cell_type": "code",
   "execution_count": 14,
   "metadata": {},
   "outputs": [
    {
     "data": {
      "text/plain": [
       "37       0.838\n",
       "38       0.838\n",
       "39       0.838\n",
       "40       0.838\n",
       "41       0.838\n",
       "         ...  \n",
       "55534    0.588\n",
       "55542    0.588\n",
       "55550    0.588\n",
       "55558    0.588\n",
       "55566    0.588\n",
       "Name: energy, Length: 8340, dtype: float64"
      ]
     },
     "execution_count": 14,
     "metadata": {},
     "output_type": "execute_result"
    }
   ],
   "source": [
    "genre_lapop_quart=genre_lapop[\"energy\"]\n",
    "genre_lapop_quart"
   ]
  },
  {
   "cell_type": "code",
   "execution_count": 15,
   "metadata": {
    "scrolled": true
   },
   "outputs": [
    {
     "name": "stdout",
     "output_type": "stream",
     "text": [
      "The lower quartile of energy in latin pop is: 0.675\n",
      "The upper quartile of energy in latin pop is: 0.791\n",
      "The upper interquartile range of energy in latin pop is: 0.11599999999999999\n",
      "The median of energy in latin pop is: 0.752\n",
      "Values below 0.5010000000000001 could be the outliers.\n",
      "Values above 0.9650000000000001 could be the outliers.\n"
     ]
    }
   ],
   "source": [
    "quartiles_lapop=genre_lapop_quart.quantile([.25,.5,.75])\n",
    "lowerq_lapop=quartiles_lapop[0.25]\n",
    "upperq_lapop=quartiles_lapop[0.75]\n",
    "iqr_lapop=upperq_lapop-lowerq_lapop\n",
    "\n",
    "print(f\"The lower quartile of energy in latin pop is: {lowerq_lapop}\")\n",
    "print(f\"The upper quartile of energy in latin pop is: {upperq_lapop}\")\n",
    "print(f\"The upper interquartile range of energy in latin pop is: {iqr_lapop}\")\n",
    "print(f\"The median of energy in latin pop is: {quartiles_lapop[0.5]}\")\n",
    "\n",
    "lower_bound_lapop=lowerq_lapop - (1.5*iqr_lapop)\n",
    "upper_bound_lapop=upperq_lapop + (1.5*iqr_lapop)\n",
    "print(f\"Values below {lower_bound_lapop} could be the outliers.\")\n",
    "print(f\"Values above {upper_bound_lapop} could be the outliers.\")"
   ]
  },
  {
   "cell_type": "code",
   "execution_count": 16,
   "metadata": {},
   "outputs": [
    {
     "data": {
      "text/plain": [
       "Text(0.5, 1.0, 'Energy of songs of Electolatino')"
      ]
     },
     "execution_count": 16,
     "metadata": {},
     "output_type": "execute_result"
    },
    {
     "data": {
      "image/png": "[encoded data removed]",
      "text/plain": [
       "<Figure size 432x288 with 1 Axes>"
      ]
     },
     "metadata": {
      "needs_background": "light"
     },
     "output_type": "display_data"
    }
   ],
   "source": [
    "genre_electo=pd.DataFrame(complete_df[complete_df[\"Genre\"]==\"electrolatino\"][\"energy\"])\n",
    "box_ge=genre_electo.boxplot()\n",
    "box_ge.set_title('Energy of songs of Electolatino')"
   ]
  },
  {
   "cell_type": "code",
   "execution_count": 17,
   "metadata": {},
   "outputs": [
    {
     "data": {
      "text/plain": [
       "2618     0.874\n",
       "2619     0.874\n",
       "2620     0.874\n",
       "2621     0.874\n",
       "3169     0.829\n",
       "         ...  \n",
       "55562    0.588\n",
       "55564    0.588\n",
       "55569    0.588\n",
       "55570    0.588\n",
       "55572    0.588\n",
       "Name: energy, Length: 7626, dtype: float64"
      ]
     },
     "execution_count": 17,
     "metadata": {},
     "output_type": "execute_result"
    }
   ],
   "source": [
    "electro_data=genre_electo[\"energy\"]\n",
    "electro_data"
   ]
  },
  {
   "cell_type": "code",
   "execution_count": 18,
   "metadata": {},
   "outputs": [
    {
     "name": "stdout",
     "output_type": "stream",
     "text": [
      "The lower quartile of energy in electrolatin is:0.675\n",
      "The upper quartile of energy in electrolatin is:0.791\n",
      "The median of energy in electrolatin is:0.752\n",
      "Values below 0.5010000000000001 could be outliers\n"
     ]
    }
   ],
   "source": [
    "qelectro=electro_data.quantile([.25,.5,.75])\n",
    "lelectro=qelectro[0.25]\n",
    "uelectro=qelectro[0.75]\n",
    "ielectro=uelectro-lelectro\n",
    "loelectro=lelectro-(1.5*ielectro)\n",
    "upelectro=uelectro+(1.5*ielectro)\n",
    "print(f\"The lower quartile of energy in electrolatin is:{lelectro}\")\n",
    "print(f\"The upper quartile of energy in electrolatin is:{uelectro}\")\n",
    "print(f\"The median of energy in electrolatin is:{qelectro[0.5]}\")\n",
    "print(f\"Values below {loelectro} could be outliers\")\n"
   ]
  },
  {
   "cell_type": "code",
   "execution_count": 19,
   "metadata": {},
   "outputs": [
    {
     "data": {
      "text/plain": [
       "Text(0.5, 1.0, 'Energy of Classic Songs')"
      ]
     },
     "execution_count": 19,
     "metadata": {},
     "output_type": "execute_result"
    },
    {
     "data": {
      "image/png": "[encoded data removed]",
      "text/plain": [
       "<Figure size 432x288 with 1 Axes>"
      ]
     },
     "metadata": {
      "needs_background": "light"
     },
     "output_type": "display_data"
    }
   ],
   "source": [
    "classicsoundtrack=pd.DataFrame(complete_df[complete_df[\"Genre\"]==\"classicsoundtrack\"][\"energy\"])\n",
    "classic_data=classicsoundtrack.boxplot()\n",
    "classic_data.set_title('Energy of Classic Songs')"
   ]
  },
  {
   "cell_type": "code",
   "execution_count": 20,
   "metadata": {},
   "outputs": [
    {
     "name": "stdout",
     "output_type": "stream",
     "text": [
      "The lower quartile of energy in electrolatin is:0.745\n",
      "The upper quartile of energy in electrolatin is:0.811\n",
      "The median of energy in electrolatin is:0.779\n",
      "Values below 0.6459999999999999 could be outliers\n"
     ]
    }
   ],
   "source": [
    "classic_data_df=classicsoundtrack[\"energy\"]\n",
    "qclassoc=classic_data_df.quantile([.25,.5,.75])\n",
    "lclassic=qclassoc[0.25]\n",
    "uclassic=qclassoc[0.75]\n",
    "iclassic=uclassic-lclassic\n",
    "loclassic=lclassic-(1.5*iclassic)\n",
    "upclassic=uclassic+(1.5*iclassic)\n",
    "print(f\"The lower quartile of energy in classic is:{lclassic}\")\n",
    "print(f\"The upper quartile of energy in classic is:{uclassic}\")\n",
    "print(f\"The median of energy in classic is:{qclassoc[0.5]}\")\n",
    "print(f\"Values below {loclassic} could be outliers\")"
   ]
  },
  {
   "cell_type": "code",
   "execution_count": 31,
   "metadata": {},
   "outputs": [
    {
     "data": {
      "text/plain": [
       "Text(0.5, 1.0, 'Energy of UKPop Songs')"
      ]
     },
     "execution_count": 31,
     "metadata": {},
     "output_type": "execute_result"
    },
    {
     "data": {
      "image/png": "[encoded data removed]",
      "text/plain": [
       "<Figure size 432x288 with 1 Axes>"
      ]
     },
     "metadata": {
      "needs_background": "light"
     },
     "output_type": "display_data"
    }
   ],
   "source": [
    "ukpop=pd.DataFrame(complete_df[complete_df[\"Genre\"]==\"ukpop\"][\"energy\"])\n",
    "ukpop_data=ukpop.boxplot()\n",
    "ukpop_data.set_title('Energy of UKPop Songs')"
   ]
  },
  {
   "cell_type": "code",
   "execution_count": 32,
   "metadata": {},
   "outputs": [
    {
     "name": "stdout",
     "output_type": "stream",
     "text": [
      "The lower quartile of energy in UKPop is:0.575\n",
      "The upper quartile of energy in UKPop is:0.794\n",
      "The median of energy in UKPop is:0.744\n",
      "Values below 0.24649999999999983 could be outliers\n"
     ]
    }
   ],
   "source": [
    "ukpop_data_df=ukpop[\"energy\"]\n",
    "qukpop=ukpop_data_df.quantile([.25,.5,.75])\n",
    "lukpop=qukpop[0.25]\n",
    "uukpop=qukpop[0.75]\n",
    "iukpop=uukpop-lukpop\n",
    "loukpop=lukpop-(1.5*iukpop)\n",
    "upukpop=uukpop+(1.5*iukpop)\n",
    "print(f\"The lower quartile of energy in UKPop is:{lukpop}\")\n",
    "print(f\"The upper quartile of energy in UKPop is:{uukpop}\")\n",
    "print(f\"The median of energy in UKPop is:{qukpop[0.5]}\")\n",
    "print(f\"Values below {loukpop} could be outliers\")"
   ]
  },
  {
   "cell_type": "code",
   "execution_count": 33,
   "metadata": {},
   "outputs": [
    {
     "data": {
      "text/plain": [
       "Text(0.5, 1.0, 'Energy of Reggaeton Songs')"
      ]
     },
     "execution_count": 33,
     "metadata": {},
     "output_type": "execute_result"
    },
    {
     "data": {
      "image/png": "[encoded data removed]",
      "text/plain": [
       "<Figure size 432x288 with 1 Axes>"
      ]
     },
     "metadata": {
      "needs_background": "light"
     },
     "output_type": "display_data"
    }
   ],
   "source": [
    "reggaeton=pd.DataFrame(complete_df[complete_df[\"Genre\"]==\"reggaeton\"][\"energy\"])\n",
    "reggaeton_data=reggaeton.boxplot()\n",
    "reggaeton_data.set_title('Energy of Reggaeton Songs')"
   ]
  },
  {
   "cell_type": "code",
   "execution_count": 34,
   "metadata": {},
   "outputs": [
    {
     "name": "stdout",
     "output_type": "stream",
     "text": [
      "The lower quartile of energy in reggaeton is:0.706\n",
      "The upper quartile of energy in reggaeton is:0.777\n",
      "The median of energy in reggaeton is:0.75\n",
      "Values below 0.5994999999999999 could be outliers\n",
      "Values above 0.8835000000000002 could be outliers\n"
     ]
    }
   ],
   "source": [
    "reggaeton_data_df=reggaeton[\"energy\"]\n",
    "qreggaeton=reggaeton_data_df.quantile([.25,.5,.75])\n",
    "lreggaeton=qreggaeton[0.25]\n",
    "ureggaeton=qreggaeton[0.75]\n",
    "ireggaeton=ureggaeton-lreggaeton\n",
    "loreggaeton=lreggaeton-(1.5*ireggaeton)\n",
    "upreggaeton=ureggaeton+(1.5*ireggaeton)\n",
    "print(f\"The lower quartile of energy in reggaeton is:{lreggaeton}\")\n",
    "print(f\"The upper quartile of energy in reggaeton is:{ureggaeton}\")\n",
    "print(f\"The median of energy in reggaeton is:{qreggaeton[0.5]}\")\n",
    "print(f\"Values below {loreggaeton} could be outliers\")\n",
    "print(f\"Values above {upreggaeton} could be outliers\")"
   ]
  },
  {
   "cell_type": "code",
   "execution_count": 35,
   "metadata": {},
   "outputs": [
    {
     "data": {
      "text/plain": [
       "<matplotlib.axes._subplots.AxesSubplot at 0x1ae581f1f48>"
      ]
     },
     "execution_count": 35,
     "metadata": {},
     "output_type": "execute_result"
    },
    {
     "data": {
      "image/png": "[encoded data removed]",
      "text/plain": [
       "<Figure size 1440x720 with 1 Axes>"
      ]
     },
     "metadata": {
      "needs_background": "light"
     },
     "output_type": "display_data"
    }
   ],
   "source": [
    "complete_df.boxplot(\"energy\",by=\"Genre\",figsize=(20,10))"
   ]
  },
  {
   "cell_type": "markdown",
   "metadata": {},
   "source": [
    "## If a song has a higher level of danceability, then it will be more likely to be in the Top 50 throughout the next year."
   ]
  },
  {
   "cell_type": "code",
   "execution_count": 30,
   "metadata": {},
   "outputs": [
    {
     "data": {
      "text/plain": [
       "Text(0.5, 1.0, 'Energy of Reggaeton Songs')"
      ]
     },
     "execution_count": 30,
     "metadata": {},
     "output_type": "execute_result"
    },
    {
     "data": {
      "image/png": "[encoded data removed]",
      "text/plain": [
       "<Figure size 432x288 with 1 Axes>"
      ]
     },
     "metadata": {
      "needs_background": "light"
     },
     "output_type": "display_data"
    }
   ],
   "source": [
    "dance_regg=pd.DataFrame(complete_df[complete_df[\"Genre\"]==\"reggaeton\"][\"danceability\"])\n",
    "dance_data=dance_regg.boxplot()\n",
    "dance_data.set_title('Danceability of Reggaeton Songs')"
   ]
  },
  {
   "cell_type": "code",
   "execution_count": 40,
   "metadata": {},
   "outputs": [
    {
     "name": "stdout",
     "output_type": "stream",
     "text": [
      "The lower quartile of danceability in reggaeton is:0.709\n",
      "The upper quartile of danceability in reggaeton is:0.807\n",
      "The median of danceability in electrolatin is:0.767\n"
     ]
    }
   ],
   "source": [
    "reggaeton_data_danceability=dance_regg[\"danceability\"]\n",
    "qreggaeton_dance=reggaeton_data_danceability.quantile([.25,.5,.75])\n",
    "lreggaeton_dance=qreggaeton_dance[0.25]\n",
    "ureggaeton_dance=qreggaeton_dance[0.75]\n",
    "ireggaeton_dance=ureggaeton_dance-lreggaeton_dance\n",
    "loreggaeton_dance=lreggaeton_dance-(1.5*ireggaeton_dance)\n",
    "upreggaeton_dance=ureggaeton_dance+(1.5*ireggaeton_dance)\n",
    "print(f\"The lower quartile of danceability in reggaeton is:{lreggaeton_dance}\")\n",
    "print(f\"The upper quartile of danceability in reggaeton is:{ureggaeton_dance}\")\n",
    "print(f\"The median of danceability in electrolatin is:{qreggaeton_dance[0.5]}\")"
   ]
  },
  {
   "cell_type": "code",
   "execution_count": 41,
   "metadata": {},
   "outputs": [
    {
     "data": {
      "text/plain": [
       "Text(0.5, 1.0, 'Danceability of electrolatino Songs')"
      ]
     },
     "execution_count": 41,
     "metadata": {},
     "output_type": "execute_result"
    },
    {
     "data": {
      "image/png": "[encoded data removed]",
      "text/plain": [
       "<Figure size 432x288 with 1 Axes>"
      ]
     },
     "metadata": {
      "needs_background": "light"
     },
     "output_type": "display_data"
    }
   ],
   "source": [
    "dance_electrolatino=pd.DataFrame(complete_df[complete_df[\"Genre\"]==\"electrolatino\"][\"danceability\"])\n",
    "dance_data_electrolatino=dance_electrolatino.boxplot()\n",
    "dance_data_electrolatino.set_title('Danceability of electrolatino Songs')"
   ]
  },
  {
   "cell_type": "code",
   "execution_count": 42,
   "metadata": {},
   "outputs": [
    {
     "name": "stdout",
     "output_type": "stream",
     "text": [
      "The lower quartile of danceability in electrolatino is:0.7290000000000001\n",
      "The upper quartile of danceability in electrolatino is:0.826\n",
      "The median of danceability in electrolatino is:0.772\n"
     ]
    }
   ],
   "source": [
    "electrolatino_data_danceability=dance_electrolatino[\"danceability\"]\n",
    "qelectrolatino_dance=electrolatino_data_danceability.quantile([.25,.5,.75])\n",
    "lelectrolatino_dance=qelectrolatino_dance[0.25]\n",
    "uelectrolatino_dance=qelectrolatino_dance[0.75]\n",
    "ielectrolatino_dance=uelectrolatino_dance-lelectrolatino_dance\n",
    "loelectrolatino_dance=lelectrolatino_dance-(1.5*ielectrolatino_dance)\n",
    "upelectrolatino_dance=uelectrolatino_dance+(1.5*ielectrolatino_dance)\n",
    "print(f\"The lower quartile of danceability in electrolatino is:{lelectrolatino_dance}\")\n",
    "print(f\"The upper quartile of danceability in electrolatino is:{uelectrolatino_dance}\")\n",
    "print(f\"The median of danceability in electrolatino is:{qelectrolatino_dance[0.5]}\")"
   ]
  },
  {
   "cell_type": "code",
   "execution_count": 43,
   "metadata": {},
   "outputs": [
    {
     "data": {
      "text/plain": [
       "Text(0.5, 1.0, 'Danceability of electrolatino Songs')"
      ]
     },
     "execution_count": 43,
     "metadata": {},
     "output_type": "execute_result"
    },
    {
     "data": {
      "image/png": "[encoded data removed]",
      "text/plain": [
       "<Figure size 432x288 with 1 Axes>"
      ]
     },
     "metadata": {
      "needs_background": "light"
     },
     "output_type": "display_data"
    }
   ],
   "source": [
    "dance_classicsoundtrack=pd.DataFrame(complete_df[complete_df[\"Genre\"]==\"classicsoundtrack\"][\"danceability\"])\n",
    "dance_data_classicsoundtrack=dance_classicsoundtrack.boxplot()\n",
    "dance_data_classicsoundtrack.set_title('Danceability of Classic Songs')"
   ]
  },
  {
   "cell_type": "code",
   "execution_count": 44,
   "metadata": {},
   "outputs": [
    {
     "name": "stdout",
     "output_type": "stream",
     "text": [
      "The lower quartile of danceability in electrolatino is:0.728\n",
      "The upper quartile of danceability in electrolatino is:0.814\n",
      "The median of danceability in electrolatino is:0.766\n"
     ]
    }
   ],
   "source": [
    "classic_data_danceability=dance_classicsoundtrack[\"danceability\"]\n",
    "qclassic_dance=classic_data_danceability.quantile([.25,.5,.75])\n",
    "lclassic_dance=qclassic_dance[0.25]\n",
    "uclassic_dance=qclassic_dance[0.75]\n",
    "iclassic_dance=uclassic_dance-lclassic_dance\n",
    "loclassic_dance=lclassic_dance-(1.5*iclassic_dance)\n",
    "upclassicdance=uclassic_dance+(1.5*iclassic_dance)\n",
    "print(f\"The lower quartile of danceability in electrolatino is:{lclassic_dance}\")\n",
    "print(f\"The upper quartile of danceability in electrolatino is:{uclassic_dance}\")\n",
    "print(f\"The median of danceability in electrolatino is:{qclassic_dance[0.5]}\")"
   ]
  },
  {
   "cell_type": "code",
   "execution_count": null,
   "metadata": {},
   "outputs": [],
   "source": []
  }
 ],
 "metadata": {
  "kernelspec": {
   "display_name": "Python 3",
   "language": "python",
   "name": "python3"
  },
  "language_info": {
   "codemirror_mode": {
    "name": "ipython",
    "version": 3
   },
   "file_extension": ".py",
   "mimetype": "text/x-python",
   "name": "python",
   "nbconvert_exporter": "python",
   "pygments_lexer": "ipython3",
   "version": "3.7.4"
  }
 },
 "nbformat": 4,
 "nbformat_minor": 2
}
